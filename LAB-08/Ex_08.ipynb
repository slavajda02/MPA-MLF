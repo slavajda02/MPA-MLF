{
 "cells": [
  {
   "cell_type": "markdown",
   "id": "4e658167-a5e2-42c5-9fa6-01f7021fbca4",
   "metadata": {
    "id": "4e658167-a5e2-42c5-9fa6-01f7021fbca4"
   },
   "source": [
    "# MKA-MLF, Lab_08 - RNN"
   ]
  },
  {
   "cell_type": "markdown",
   "id": "F6KltZSGklJQ",
   "metadata": {
    "id": "F6KltZSGklJQ"
   },
   "source": [
    "Recurrent Neural Networks, are a class of artificial neural networks designed to recognize patterns in sequences of data, such as text, genomes, handwriting, or spoken words. Unlike traditional neural networks, which assume all inputs (and outputs) are independent of each other, RNNs are designed to recognize sequential or temporal patterns, making them especially suited for tasks like language modeling, speech recognition, and time series prediction."
   ]
  },
  {
   "cell_type": "markdown",
   "id": "zheceqk2lMcA",
   "metadata": {
    "id": "zheceqk2lMcA"
   },
   "source": [
    "## Exercise 1 - Time Series Forecasting"
   ]
  },
  {
   "cell_type": "markdown",
   "id": "TzFZTA1DrJbG",
   "metadata": {
    "id": "TzFZTA1DrJbG"
   },
   "source": [
    "### 1.0 Import Libraries"
   ]
  },
  {
   "cell_type": "code",
   "execution_count": 10,
   "id": "Whyi3QznnAbG",
   "metadata": {
    "executionInfo": {
     "elapsed": 432,
     "status": "ok",
     "timestamp": 1712495811600,
     "user": {
      "displayName": "Jan Bolcek",
      "userId": "11245949610672084450"
     },
     "user_tz": -120
    },
    "id": "Whyi3QznnAbG"
   },
   "outputs": [],
   "source": [
    "import numpy as np\n",
    "import matplotlib.pyplot as plt\n",
    "from keras.layers import Dense, Flatten, SimpleRNN\n",
    "from tensorflow.keras.models import Sequential\n",
    "from keras.optimizers import Adam\n",
    "from keras.losses import MeanSquaredError"
   ]
  },
  {
   "cell_type": "markdown",
   "id": "UBqkZx0lrCAP",
   "metadata": {
    "id": "UBqkZx0lrCAP"
   },
   "source": [
    "### 1.1 Generating dataset"
   ]
  },
  {
   "cell_type": "code",
   "execution_count": 3,
   "id": "Q_Q3ulmRlS6R",
   "metadata": {
    "executionInfo": {
     "elapsed": 718,
     "status": "ok",
     "timestamp": 1712494240070,
     "user": {
      "displayName": "Jan Bolcek",
      "userId": "11245949610672084450"
     },
     "user_tz": -120
    },
    "id": "Q_Q3ulmRlS6R"
   },
   "outputs": [],
   "source": [
    "def generate_time_series(batch_size, n_steps):\n",
    "  freq1, freq2, offsets1, offsets2 = np.random.rand(4, batch_size, 1)\n",
    "  time = np.linspace(0,1,n_steps)\n",
    "\n",
    "  series = 0.5 * np.sin((time - offsets1) * (freq1*10 + 10))\n",
    "  series += 0.2 * np.sin((time - offsets2) * (freq2*20 + 20))\n",
    "  series += 0.1 * (np.random.rand(batch_size, n_steps)- 0.5)\n",
    "  return series[..., np.newaxis].astype(np.float32)"
   ]
  },
  {
   "cell_type": "code",
   "execution_count": 4,
   "id": "p9kt6EQjkfvi",
   "metadata": {
    "executionInfo": {
     "elapsed": 272,
     "status": "ok",
     "timestamp": 1712494991842,
     "user": {
      "displayName": "Jan Bolcek",
      "userId": "11245949610672084450"
     },
     "user_tz": -120
    },
    "id": "p9kt6EQjkfvi"
   },
   "outputs": [],
   "source": [
    "data_size = 10000\n",
    "n_steps = 50\n",
    "np.random.seed(0)\n",
    "\n",
    "series = generate_time_series(data_size, n_steps + 1)"
   ]
  },
  {
   "cell_type": "markdown",
   "id": "5neyWb-NrQ98",
   "metadata": {
    "id": "5neyWb-NrQ98"
   },
   "source": [
    "### 1.2 Train/Valid/Test split"
   ]
  },
  {
   "cell_type": "code",
   "execution_count": 5,
   "id": "hPX75BPkmZqk",
   "metadata": {
    "executionInfo": {
     "elapsed": 2,
     "status": "ok",
     "timestamp": 1712494995260,
     "user": {
      "displayName": "Jan Bolcek",
      "userId": "11245949610672084450"
     },
     "user_tz": -120
    },
    "id": "hPX75BPkmZqk"
   },
   "outputs": [],
   "source": [
    "X_train, y_train = series[:7000, :n_steps], series[:7000, -1]\n",
    "X_valid, y_valid = series[7000:9000, :n_steps], series[7000:9000, -1]\n",
    "X_test, y_test = series[9000:, :n_steps], series[9000:, -1]"
   ]
  },
  {
   "cell_type": "code",
   "execution_count": 6,
   "id": "0DtVKkwzuoQZ",
   "metadata": {
    "executionInfo": {
     "elapsed": 319,
     "status": "ok",
     "timestamp": 1712496603157,
     "user": {
      "displayName": "Jan Bolcek",
      "userId": "11245949610672084450"
     },
     "user_tz": -120
    },
    "id": "0DtVKkwzuoQZ"
   },
   "outputs": [],
   "source": [
    "no_training_epochs = 5"
   ]
  },
  {
   "cell_type": "markdown",
   "id": "js6Qzm--rXmD",
   "metadata": {
    "id": "js6Qzm--rXmD"
   },
   "source": [
    "### 1.3 Data examination"
   ]
  },
  {
   "cell_type": "code",
   "execution_count": 7,
   "id": "GpXWorBknLSr",
   "metadata": {
    "colab": {
     "base_uri": "https://localhost:8080/",
     "height": 448
    },
    "executionInfo": {
     "elapsed": 329,
     "status": "ok",
     "timestamp": 1712494996519,
     "user": {
      "displayName": "Jan Bolcek",
      "userId": "11245949610672084450"
     },
     "user_tz": -120
    },
    "id": "GpXWorBknLSr",
    "outputId": "1f692c47-86e0-48fd-da55-7bedab7d3e10"
   },
   "outputs": [
    {
     "data": {
      "text/plain": [
       "[<matplotlib.lines.Line2D at 0x7ff831de3580>]"
      ]
     },
     "execution_count": 7,
     "metadata": {},
     "output_type": "execute_result"
    },
    {
     "data": {
      "image/png": "[encoded data removed]",
      "text/plain": [
       "<Figure size 640x480 with 1 Axes>"
      ]
     },
     "metadata": {},
     "output_type": "display_data"
    }
   ],
   "source": [
    "plt.figure()\n",
    "plt.plot(X_train[0])\n",
    "plt.plot(n_steps+1, y_train[0], 'rx')"
   ]
  },
  {
   "cell_type": "markdown",
   "id": "GvgPXxfBrahC",
   "metadata": {
    "id": "GvgPXxfBrahC"
   },
   "source": [
    "### 1.4 Simple Linear model"
   ]
  },
  {
   "cell_type": "code",
   "execution_count": 11,
   "id": "g7izHKRso_an",
   "metadata": {
    "executionInfo": {
     "elapsed": 249,
     "status": "ok",
     "timestamp": 1712496739154,
     "user": {
      "displayName": "Jan Bolcek",
      "userId": "11245949610672084450"
     },
     "user_tz": -120
    },
    "id": "g7izHKRso_an"
   },
   "outputs": [
    {
     "name": "stderr",
     "output_type": "stream",
     "text": [
      "2025-04-01 07:26:23.116606: I external/local_xla/xla/stream_executor/cuda/cuda_executor.cc:901] successful NUMA node read from SysFS had negative value (-1), but there must be at least one NUMA node, so returning NUMA node zero. See more at https://github.com/torvalds/linux/blob/v6.0/Documentation/ABI/testing/sysfs-bus-pci#L344-L355\n",
      "2025-04-01 07:26:23.313775: I external/local_xla/xla/stream_executor/cuda/cuda_executor.cc:901] successful NUMA node read from SysFS had negative value (-1), but there must be at least one NUMA node, so returning NUMA node zero. See more at https://github.com/torvalds/linux/blob/v6.0/Documentation/ABI/testing/sysfs-bus-pci#L344-L355\n",
      "2025-04-01 07:26:23.316672: I external/local_xla/xla/stream_executor/cuda/cuda_executor.cc:901] successful NUMA node read from SysFS had negative value (-1), but there must be at least one NUMA node, so returning NUMA node zero. See more at https://github.com/torvalds/linux/blob/v6.0/Documentation/ABI/testing/sysfs-bus-pci#L344-L355\n",
      "2025-04-01 07:26:23.320488: I external/local_xla/xla/stream_executor/cuda/cuda_executor.cc:901] successful NUMA node read from SysFS had negative value (-1), but there must be at least one NUMA node, so returning NUMA node zero. See more at https://github.com/torvalds/linux/blob/v6.0/Documentation/ABI/testing/sysfs-bus-pci#L344-L355\n",
      "2025-04-01 07:26:23.323040: I external/local_xla/xla/stream_executor/cuda/cuda_executor.cc:901] successful NUMA node read from SysFS had negative value (-1), but there must be at least one NUMA node, so returning NUMA node zero. See more at https://github.com/torvalds/linux/blob/v6.0/Documentation/ABI/testing/sysfs-bus-pci#L344-L355\n",
      "2025-04-01 07:26:23.325818: I external/local_xla/xla/stream_executor/cuda/cuda_executor.cc:901] successful NUMA node read from SysFS had negative value (-1), but there must be at least one NUMA node, so returning NUMA node zero. See more at https://github.com/torvalds/linux/blob/v6.0/Documentation/ABI/testing/sysfs-bus-pci#L344-L355\n",
      "2025-04-01 07:26:23.479502: I external/local_xla/xla/stream_executor/cuda/cuda_executor.cc:901] successful NUMA node read from SysFS had negative value (-1), but there must be at least one NUMA node, so returning NUMA node zero. See more at https://github.com/torvalds/linux/blob/v6.0/Documentation/ABI/testing/sysfs-bus-pci#L344-L355\n",
      "2025-04-01 07:26:23.480497: I external/local_xla/xla/stream_executor/cuda/cuda_executor.cc:901] successful NUMA node read from SysFS had negative value (-1), but there must be at least one NUMA node, so returning NUMA node zero. See more at https://github.com/torvalds/linux/blob/v6.0/Documentation/ABI/testing/sysfs-bus-pci#L344-L355\n",
      "2025-04-01 07:26:23.481394: I external/local_xla/xla/stream_executor/cuda/cuda_executor.cc:901] successful NUMA node read from SysFS had negative value (-1), but there must be at least one NUMA node, so returning NUMA node zero. See more at https://github.com/torvalds/linux/blob/v6.0/Documentation/ABI/testing/sysfs-bus-pci#L344-L355\n",
      "2025-04-01 07:26:23.482361: I tensorflow/core/common_runtime/gpu/gpu_device.cc:1929] Created device /job:localhost/replica:0/task:0/device:GPU:0 with 6632 MB memory:  -> device: 0, name: NVIDIA GeForce RTX 2070 SUPER, pci bus id: 0000:09:00.0, compute capability: 7.5\n"
     ]
    }
   ],
   "source": [
    "# Model definition\n",
    "model_linear = Sequential()\n",
    "model_linear.add(Flatten(input_shape=(50,1)))\n",
    "model_linear.add(Dense(1, activation = None))"
   ]
  },
  {
   "cell_type": "code",
   "execution_count": 12,
   "id": "csJhWfvypZw7",
   "metadata": {
    "executionInfo": {
     "elapsed": 235,
     "status": "ok",
     "timestamp": 1712496740689,
     "user": {
      "displayName": "Jan Bolcek",
      "userId": "11245949610672084450"
     },
     "user_tz": -120
    },
    "id": "csJhWfvypZw7"
   },
   "outputs": [],
   "source": [
    "# Model building\n",
    "\n",
    "learning_rate = 0.001\n",
    "optimizer = Adam(learning_rate)\n",
    "model_linear.compile(loss='mean_squared_error', optimizer=optimizer, metrics=['mean_squared_error'])"
   ]
  },
  {
   "cell_type": "code",
   "execution_count": 13,
   "id": "D3iBcNJQpnMv",
   "metadata": {
    "colab": {
     "base_uri": "https://localhost:8080/"
    },
    "executionInfo": {
     "elapsed": 266,
     "status": "ok",
     "timestamp": 1712496741963,
     "user": {
      "displayName": "Jan Bolcek",
      "userId": "11245949610672084450"
     },
     "user_tz": -120
    },
    "id": "D3iBcNJQpnMv",
    "outputId": "65b2b86c-e7b4-4416-a63f-94208e4649c0"
   },
   "outputs": [
    {
     "name": "stdout",
     "output_type": "stream",
     "text": [
      "Model: \"sequential\"\n",
      "_________________________________________________________________\n",
      " Layer (type)                Output Shape              Param #   \n",
      "=================================================================\n",
      " flatten (Flatten)           (None, 50)                0         \n",
      "                                                                 \n",
      " dense (Dense)               (None, 1)                 51        \n",
      "                                                                 \n",
      "=================================================================\n",
      "Total params: 51 (204.00 Byte)\n",
      "Trainable params: 51 (204.00 Byte)\n",
      "Non-trainable params: 0 (0.00 Byte)\n",
      "_________________________________________________________________\n"
     ]
    }
   ],
   "source": [
    "model_linear.summary()"
   ]
  },
  {
   "cell_type": "code",
   "execution_count": 14,
   "id": "GGZMF0d9pmbv",
   "metadata": {
    "colab": {
     "base_uri": "https://localhost:8080/"
    },
    "executionInfo": {
     "elapsed": 4488,
     "status": "ok",
     "timestamp": 1712496748385,
     "user": {
      "displayName": "Jan Bolcek",
      "userId": "11245949610672084450"
     },
     "user_tz": -120
    },
    "id": "GGZMF0d9pmbv",
    "outputId": "61a66c3b-8961-407c-b95e-4357130009ff"
   },
   "outputs": [
    {
     "name": "stdout",
     "output_type": "stream",
     "text": [
      "Epoch 1/5\n"
     ]
    },
    {
     "name": "stderr",
     "output_type": "stream",
     "text": [
      "2025-04-01 07:26:42.128101: I external/local_xla/xla/service/service.cc:168] XLA service 0x7ff741749370 initialized for platform CUDA (this does not guarantee that XLA will be used). Devices:\n",
      "2025-04-01 07:26:42.128126: I external/local_xla/xla/service/service.cc:176]   StreamExecutor device (0): NVIDIA GeForce RTX 2070 SUPER, Compute Capability 7.5\n",
      "2025-04-01 07:26:42.140455: I tensorflow/compiler/mlir/tensorflow/utils/dump_mlir_util.cc:269] disabling MLIR crash reproducer, set env var `MLIR_CRASH_REPRODUCER_DIRECTORY` to enable.\n",
      "2025-04-01 07:26:42.170885: I external/local_xla/xla/stream_executor/cuda/cuda_dnn.cc:454] Loaded cuDNN version 8904\n",
      "WARNING: All log messages before absl::InitializeLog() is called are written to STDERR\n",
      "I0000 00:00:1743492402.259547  199328 device_compiler.h:186] Compiled cluster using XLA!  This line is logged at most once for the lifetime of the process.\n"
     ]
    },
    {
     "name": "stdout",
     "output_type": "stream",
     "text": [
      "219/219 [==============================] - 2s 2ms/step - loss: 0.1778 - mean_squared_error: 0.1778 - val_loss: 0.0769 - val_mean_squared_error: 0.0769\n",
      "Epoch 2/5\n",
      "219/219 [==============================] - 0s 2ms/step - loss: 0.0518 - mean_squared_error: 0.0518 - val_loss: 0.0353 - val_mean_squared_error: 0.0353\n",
      "Epoch 3/5\n",
      "219/219 [==============================] - 0s 2ms/step - loss: 0.0279 - mean_squared_error: 0.0279 - val_loss: 0.0225 - val_mean_squared_error: 0.0225\n",
      "Epoch 4/5\n",
      "219/219 [==============================] - 0s 2ms/step - loss: 0.0200 - mean_squared_error: 0.0200 - val_loss: 0.0177 - val_mean_squared_error: 0.0177\n",
      "Epoch 5/5\n",
      "219/219 [==============================] - 0s 2ms/step - loss: 0.0162 - mean_squared_error: 0.0162 - val_loss: 0.0147 - val_mean_squared_error: 0.0147\n"
     ]
    }
   ],
   "source": [
    "# Model training\n",
    "\n",
    "history_linear = model_linear.fit(X_train, y_train, epochs=no_training_epochs, validation_data=[X_valid, y_valid])"
   ]
  },
  {
   "cell_type": "code",
   "execution_count": 15,
   "id": "t9IahRnYqSi4",
   "metadata": {
    "executionInfo": {
     "elapsed": 255,
     "status": "ok",
     "timestamp": 1712496751241,
     "user": {
      "displayName": "Jan Bolcek",
      "userId": "11245949610672084450"
     },
     "user_tz": -120
    },
    "id": "t9IahRnYqSi4"
   },
   "outputs": [],
   "source": [
    "def plot_function(history):\n",
    "  plt.figure()\n",
    "\n",
    "  plt.plot(history.history['loss'], label='loss')\n",
    "  plt.plot(history.history['val_loss'], label='validation_loss')\n",
    "  plt.legend()\n",
    "  plt.grid()\n",
    "  plt.xlim([0,no_training_epochs-1])\n",
    "  plt.xlabel('epochs')"
   ]
  },
  {
   "cell_type": "code",
   "execution_count": 162,
   "id": "wMAEXxYiwKYo",
   "metadata": {
    "colab": {
     "base_uri": "https://localhost:8080/",
     "height": 449
    },
    "executionInfo": {
     "elapsed": 932,
     "status": "ok",
     "timestamp": 1712496753032,
     "user": {
      "displayName": "Jan Bolcek",
      "userId": "11245949610672084450"
     },
     "user_tz": -120
    },
    "id": "wMAEXxYiwKYo",
    "outputId": "31e1a44e-9ea1-421c-a6ca-60933126c755"
   },
   "outputs": [
    {
     "data": {
      "image/png": "[encoded data removed]",
      "text/plain": [
       "<Figure size 640x480 with 1 Axes>"
      ]
     },
     "metadata": {},
     "output_type": "display_data"
    }
   ],
   "source": [
    "plot_function(history_linear)"
   ]
  },
  {
   "cell_type": "code",
   "execution_count": 16,
   "id": "nKnuXHSSqV8n",
   "metadata": {
    "colab": {
     "base_uri": "https://localhost:8080/"
    },
    "executionInfo": {
     "elapsed": 252,
     "status": "ok",
     "timestamp": 1712496773935,
     "user": {
      "displayName": "Jan Bolcek",
      "userId": "11245949610672084450"
     },
     "user_tz": -120
    },
    "id": "nKnuXHSSqV8n",
    "outputId": "846d2850-e2ec-43aa-b9d0-6c8e958b0b35"
   },
   "outputs": [
    {
     "name": "stdout",
     "output_type": "stream",
     "text": [
      "Test loss: 0.014496429823338985\n",
      "Test MSE:  0.014496429823338985\n"
     ]
    }
   ],
   "source": [
    "score = model_linear.evaluate(X_test, y_test, verbose=0)\n",
    "print('Test loss:', score[0])\n",
    "print(f'Test MSE: ', score[1])"
   ]
  },
  {
   "cell_type": "markdown",
   "id": "odHZYob8rf4B",
   "metadata": {
    "id": "odHZYob8rf4B"
   },
   "source": [
    "### 1.5 Simple RNN Model"
   ]
  },
  {
   "cell_type": "code",
   "execution_count": 17,
   "id": "jRSMY-2GrAI5",
   "metadata": {
    "executionInfo": {
     "elapsed": 324,
     "status": "ok",
     "timestamp": 1712496778865,
     "user": {
      "displayName": "Jan Bolcek",
      "userId": "11245949610672084450"
     },
     "user_tz": -120
    },
    "id": "jRSMY-2GrAI5"
   },
   "outputs": [],
   "source": [
    "model_simple_rnn = Sequential()\n",
    "model_simple_rnn.add(SimpleRNN(1, input_shape=[50, 1]))"
   ]
  },
  {
   "cell_type": "code",
   "execution_count": 18,
   "id": "a4O10LpTtPun",
   "metadata": {
    "executionInfo": {
     "elapsed": 2,
     "status": "ok",
     "timestamp": 1712496779882,
     "user": {
      "displayName": "Jan Bolcek",
      "userId": "11245949610672084450"
     },
     "user_tz": -120
    },
    "id": "a4O10LpTtPun"
   },
   "outputs": [],
   "source": [
    "learning_rate_simple_rnn = 0.001\n",
    "optimizer_simple_rnn = Adam(learning_rate_simple_rnn)\n",
    "model_simple_rnn.compile(loss='mean_squared_error', optimizer=optimizer_simple_rnn, metrics=['mean_squared_error'])"
   ]
  },
  {
   "cell_type": "code",
   "execution_count": 19,
   "id": "kvkCnmGDtaSo",
   "metadata": {
    "colab": {
     "base_uri": "https://localhost:8080/"
    },
    "executionInfo": {
     "elapsed": 83229,
     "status": "ok",
     "timestamp": 1712496863997,
     "user": {
      "displayName": "Jan Bolcek",
      "userId": "11245949610672084450"
     },
     "user_tz": -120
    },
    "id": "kvkCnmGDtaSo",
    "outputId": "c26c87e9-8f23-4a5d-da81-aec50340b8ac"
   },
   "outputs": [
    {
     "name": "stdout",
     "output_type": "stream",
     "text": [
      "Epoch 1/5\n",
      "219/219 [==============================] - 6s 23ms/step - loss: 0.2598 - mean_squared_error: 0.2598 - val_loss: 0.2393 - val_mean_squared_error: 0.2393\n",
      "Epoch 2/5\n",
      "219/219 [==============================] - 5s 22ms/step - loss: 0.2196 - mean_squared_error: 0.2196 - val_loss: 0.2017 - val_mean_squared_error: 0.2017\n",
      "Epoch 3/5\n",
      "219/219 [==============================] - 5s 22ms/step - loss: 0.1852 - mean_squared_error: 0.1852 - val_loss: 0.1697 - val_mean_squared_error: 0.1697\n",
      "Epoch 4/5\n",
      "219/219 [==============================] - 5s 22ms/step - loss: 0.1574 - mean_squared_error: 0.1574 - val_loss: 0.1454 - val_mean_squared_error: 0.1454\n",
      "Epoch 5/5\n",
      "219/219 [==============================] - 5s 22ms/step - loss: 0.1354 - mean_squared_error: 0.1354 - val_loss: 0.1259 - val_mean_squared_error: 0.1259\n"
     ]
    }
   ],
   "source": [
    "history_simple_rnn = model_simple_rnn.fit(X_train, y_train, epochs=no_training_epochs, validation_data=[X_valid, y_valid])"
   ]
  },
  {
   "cell_type": "code",
   "execution_count": 20,
   "id": "a7b9ss0XJLUs",
   "metadata": {
    "id": "a7b9ss0XJLUs"
   },
   "outputs": [
    {
     "data": {
      "image/png": "[encoded data removed]",
      "text/plain": [
       "<Figure size 640x480 with 1 Axes>"
      ]
     },
     "metadata": {},
     "output_type": "display_data"
    }
   ],
   "source": [
    "plot_function(history_simple_rnn)"
   ]
  },
  {
   "cell_type": "markdown",
   "id": "NxaXF_ZKuMSN",
   "metadata": {
    "id": "NxaXF_ZKuMSN"
   },
   "source": [
    "### 1.5 Deep RNN Model"
   ]
  },
  {
   "cell_type": "code",
   "execution_count": 21,
   "id": "Vf6SRKUGtgQU",
   "metadata": {
    "executionInfo": {
     "elapsed": 274,
     "status": "ok",
     "timestamp": 1712496864262,
     "user": {
      "displayName": "Jan Bolcek",
      "userId": "11245949610672084450"
     },
     "user_tz": -120
    },
    "id": "Vf6SRKUGtgQU"
   },
   "outputs": [],
   "source": [
    "model_deep_rnn = Sequential()\n",
    "model_deep_rnn.add(SimpleRNN(20, return_sequences = True, input_shape=[50, 1]))\n",
    "model_deep_rnn.add(SimpleRNN(20, return_sequences = True))\n",
    "model_deep_rnn.add(SimpleRNN(1, input_shape=[50, 1]))"
   ]
  },
  {
   "cell_type": "code",
   "execution_count": 22,
   "id": "rykrG5VXuZ6s",
   "metadata": {
    "executionInfo": {
     "elapsed": 3,
     "status": "ok",
     "timestamp": 1712496864262,
     "user": {
      "displayName": "Jan Bolcek",
      "userId": "11245949610672084450"
     },
     "user_tz": -120
    },
    "id": "rykrG5VXuZ6s"
   },
   "outputs": [],
   "source": [
    "learning_rate_deep_rnn = 0.001\n",
    "optimizer_deep_rnn = Adam(learning_rate_deep_rnn)\n",
    "model_deep_rnn.compile(loss='mean_squared_error', optimizer=optimizer_deep_rnn, metrics=['mean_squared_error'])"
   ]
  },
  {
   "cell_type": "code",
   "execution_count": 23,
   "id": "TX-nr2jOuhIm",
   "metadata": {
    "colab": {
     "base_uri": "https://localhost:8080/"
    },
    "executionInfo": {
     "elapsed": 157855,
     "status": "ok",
     "timestamp": 1712497022114,
     "user": {
      "displayName": "Jan Bolcek",
      "userId": "11245949610672084450"
     },
     "user_tz": -120
    },
    "id": "TX-nr2jOuhIm",
    "outputId": "817b66d9-a353-496c-a900-804b57512f2b"
   },
   "outputs": [
    {
     "name": "stdout",
     "output_type": "stream",
     "text": [
      "Epoch 1/5\n",
      "219/219 [==============================] - 21s 89ms/step - loss: 0.0187 - mean_squared_error: 0.0187 - val_loss: 0.0041 - val_mean_squared_error: 0.0041\n",
      "Epoch 2/5\n",
      "219/219 [==============================] - 19s 87ms/step - loss: 0.0038 - mean_squared_error: 0.0038 - val_loss: 0.0033 - val_mean_squared_error: 0.0033\n",
      "Epoch 3/5\n",
      "219/219 [==============================] - 19s 86ms/step - loss: 0.0034 - mean_squared_error: 0.0034 - val_loss: 0.0035 - val_mean_squared_error: 0.0035\n",
      "Epoch 4/5\n",
      "219/219 [==============================] - 19s 88ms/step - loss: 0.0032 - mean_squared_error: 0.0032 - val_loss: 0.0030 - val_mean_squared_error: 0.0030\n",
      "Epoch 5/5\n",
      "219/219 [==============================] - 19s 87ms/step - loss: 0.0031 - mean_squared_error: 0.0031 - val_loss: 0.0031 - val_mean_squared_error: 0.0031\n"
     ]
    }
   ],
   "source": [
    "history_deep_rnn = model_deep_rnn.fit(X_train, y_train, epochs=no_training_epochs, validation_data=[X_valid, y_valid])"
   ]
  },
  {
   "cell_type": "code",
   "execution_count": 24,
   "id": "W2JOVZAlw2I6",
   "metadata": {
    "colab": {
     "base_uri": "https://localhost:8080/"
    },
    "executionInfo": {
     "elapsed": 249,
     "status": "ok",
     "timestamp": 1712497022352,
     "user": {
      "displayName": "Jan Bolcek",
      "userId": "11245949610672084450"
     },
     "user_tz": -120
    },
    "id": "W2JOVZAlw2I6",
    "outputId": "0229cc35-6301-48b5-ef1f-2f9126c9fd4b"
   },
   "outputs": [
    {
     "name": "stdout",
     "output_type": "stream",
     "text": [
      "Test loss: 0.003213572548702359\n",
      "Test MSE:  0.003213572548702359\n"
     ]
    }
   ],
   "source": [
    "score = model_deep_rnn.evaluate(X_test, y_test, verbose=0)\n",
    "print('Test loss:', score[0])\n",
    "print(f'Test MSE: ', score[1])"
   ]
  },
  {
   "cell_type": "code",
   "execution_count": 25,
   "id": "h-RBk92nJSXt",
   "metadata": {
    "id": "h-RBk92nJSXt"
   },
   "outputs": [
    {
     "data": {
      "image/png": "[encoded data removed]",
      "text/plain": [
       "<Figure size 640x480 with 1 Axes>"
      ]
     },
     "metadata": {},
     "output_type": "display_data"
    }
   ],
   "source": [
    "plot_function(history_simple_rnn)"
   ]
  },
  {
   "cell_type": "markdown",
   "id": "YKleL3gVxWhk",
   "metadata": {
    "id": "YKleL3gVxWhk"
   },
   "source": [
    "## Exercise 2 - The movie review\n",
    "\n",
    "\n"
   ]
  },
  {
   "cell_type": "markdown",
   "id": "nGOfR9_RI27U",
   "metadata": {
    "id": "nGOfR9_RI27U"
   },
   "source": [
    "Based on the written rewiev, classify if the movie if good or bad"
   ]
  },
  {
   "cell_type": "markdown",
   "id": "DeJiO_Vxxz7P",
   "metadata": {
    "id": "DeJiO_Vxxz7P"
   },
   "source": [
    "### 2.0 - Import libraries"
   ]
  },
  {
   "cell_type": "code",
   "execution_count": 1,
   "id": "JyIAVnPUlfak",
   "metadata": {
    "executionInfo": {
     "elapsed": 284,
     "status": "ok",
     "timestamp": 1712505492421,
     "user": {
      "displayName": "Jan Bolcek",
      "userId": "11245949610672084450"
     },
     "user_tz": -120
    },
    "id": "JyIAVnPUlfak"
   },
   "outputs": [
    {
     "name": "stderr",
     "output_type": "stream",
     "text": [
      "2025-04-01 07:55:53.998394: E external/local_xla/xla/stream_executor/cuda/cuda_dnn.cc:9261] Unable to register cuDNN factory: Attempting to register factory for plugin cuDNN when one has already been registered\n",
      "2025-04-01 07:55:53.998423: E external/local_xla/xla/stream_executor/cuda/cuda_fft.cc:607] Unable to register cuFFT factory: Attempting to register factory for plugin cuFFT when one has already been registered\n",
      "2025-04-01 07:55:53.999644: E external/local_xla/xla/stream_executor/cuda/cuda_blas.cc:1515] Unable to register cuBLAS factory: Attempting to register factory for plugin cuBLAS when one has already been registered\n",
      "2025-04-01 07:55:54.005886: I tensorflow/core/platform/cpu_feature_guard.cc:182] This TensorFlow binary is optimized to use available CPU instructions in performance-critical operations.\n",
      "To enable the following instructions: AVX2 FMA, in other operations, rebuild TensorFlow with the appropriate compiler flags.\n",
      "2025-04-01 07:55:54.611686: W tensorflow/compiler/tf2tensorrt/utils/py_utils.cc:38] TF-TRT Warning: Could not find TensorRT\n"
     ]
    }
   ],
   "source": [
    "from keras.preprocessing.text import Tokenizer\n",
    "import keras\n",
    "import numpy as np\n",
    "from keras.models import Sequential\n",
    "from keras.layers import LSTM, Dense, Embedding, SimpleRNN, GRU\n",
    "from keras.preprocessing.sequence import pad_sequences\n",
    "import matplotlib.pyplot as plt\n",
    "from keras.optimizers import Adam"
   ]
  },
  {
   "cell_type": "markdown",
   "id": "_ebMTkFqx65l",
   "metadata": {
    "id": "_ebMTkFqx65l"
   },
   "source": [
    "### 2.1 - Load dataset"
   ]
  },
  {
   "cell_type": "code",
   "execution_count": 2,
   "id": "zHTtEPlsq85X",
   "metadata": {
    "executionInfo": {
     "elapsed": 54892,
     "status": "ok",
     "timestamp": 1712505549865,
     "user": {
      "displayName": "Jan Bolcek",
      "userId": "11245949610672084450"
     },
     "user_tz": -120
    },
    "id": "zHTtEPlsq85X"
   },
   "outputs": [],
   "source": [
    "(X_train, y_train), (X_test, y_test) = keras.datasets.imdb.load_data()"
   ]
  },
  {
   "cell_type": "markdown",
   "id": "K6UogxMDx_Y-",
   "metadata": {
    "id": "K6UogxMDx_Y-"
   },
   "source": [
    "### 2.2 - Dataset examination"
   ]
  },
  {
   "cell_type": "code",
   "execution_count": 3,
   "id": "9jLwcwPxyTD5",
   "metadata": {
    "executionInfo": {
     "elapsed": 13,
     "status": "ok",
     "timestamp": 1712505549865,
     "user": {
      "displayName": "Jan Bolcek",
      "userId": "11245949610672084450"
     },
     "user_tz": -120
    },
    "id": "9jLwcwPxyTD5"
   },
   "outputs": [],
   "source": [
    "word_index = keras.datasets.imdb.get_word_index()\n",
    "id_to_word = {id_ + 3:word for word, id_ in word_index.items()}\n",
    "for id_, token in enumerate((\"<pad>\", \"<sos>\", \"<unk>\")):\n",
    "  id_to_word[id_] = token"
   ]
  },
  {
   "cell_type": "code",
   "execution_count": 4,
   "id": "c8yXphQIyXZB",
   "metadata": {
    "executionInfo": {
     "elapsed": 13,
     "status": "ok",
     "timestamp": 1712505549865,
     "user": {
      "displayName": "Jan Bolcek",
      "userId": "11245949610672084450"
     },
     "user_tz": -120
    },
    "id": "c8yXphQIyXZB"
   },
   "outputs": [],
   "source": [
    "single_sequence = \" \".join([id_to_word[id_] for id_ in X_train[0][:]])"
   ]
  },
  {
   "cell_type": "code",
   "execution_count": 5,
   "id": "h_1cpznZC70B",
   "metadata": {
    "colab": {
     "base_uri": "https://localhost:8080/",
     "height": 127
    },
    "executionInfo": {
     "elapsed": 13,
     "status": "ok",
     "timestamp": 1712505549865,
     "user": {
      "displayName": "Jan Bolcek",
      "userId": "11245949610672084450"
     },
     "user_tz": -120
    },
    "id": "h_1cpznZC70B",
    "outputId": "ded89552-0737-4c17-cfec-cfd60dcd6392"
   },
   "outputs": [
    {
     "data": {
      "text/plain": [
       "\"<sos> this film was just brilliant casting location scenery story direction everyone's really suited the part they played and you could just imagine being there robert redford's is an amazing actor and now the same being director norman's father came from the same scottish island as myself so i loved the fact there was a real connection with this film the witty remarks throughout the film were great it was just brilliant so much that i bought the film as soon as it was released for retail and would recommend it to everyone to watch and the fly fishing was amazing really cried at the end it was so sad and you know what they say if you cry at a film it must have been good and this definitely was also congratulations to the two little boy's that played the part's of norman and paul they were just brilliant children are often left out of the praising list i think because the stars that play them all grown up are such a big profile for the whole film but these children are amazing and should be praised for what they have done don't you think the whole story was so lovely because it was true and was someone's life after all that was shared with us all\""
      ]
     },
     "execution_count": 5,
     "metadata": {},
     "output_type": "execute_result"
    }
   ],
   "source": [
    "single_sequence"
   ]
  },
  {
   "cell_type": "code",
   "execution_count": 6,
   "id": "4vRZPUGr3w_m",
   "metadata": {
    "executionInfo": {
     "elapsed": 262,
     "status": "ok",
     "timestamp": 1712505825406,
     "user": {
      "displayName": "Jan Bolcek",
      "userId": "11245949610672084450"
     },
     "user_tz": -120
    },
    "id": "4vRZPUGr3w_m"
   },
   "outputs": [],
   "source": [
    "max_length = 150  # Define the maximum length of a review\n",
    "X_train = keras.preprocessing.sequence.pad_sequences(X_train, maxlen=max_length, padding='post', truncating='post', value=0)\n",
    "X_test = keras.preprocessing.sequence.pad_sequences(X_test, maxlen=max_length, padding='post', truncating='post', value=0)"
   ]
  },
  {
   "cell_type": "code",
   "execution_count": 7,
   "id": "NhzI5klo1pYp",
   "metadata": {
    "executionInfo": {
     "elapsed": 483,
     "status": "ok",
     "timestamp": 1712505959637,
     "user": {
      "displayName": "Jan Bolcek",
      "userId": "11245949610672084450"
     },
     "user_tz": -120
    },
    "id": "NhzI5klo1pYp"
   },
   "outputs": [
    {
     "name": "stderr",
     "output_type": "stream",
     "text": [
      "2025-04-01 07:56:05.655449: I external/local_xla/xla/stream_executor/cuda/cuda_executor.cc:901] successful NUMA node read from SysFS had negative value (-1), but there must be at least one NUMA node, so returning NUMA node zero. See more at https://github.com/torvalds/linux/blob/v6.0/Documentation/ABI/testing/sysfs-bus-pci#L344-L355\n",
      "2025-04-01 07:56:05.690967: I external/local_xla/xla/stream_executor/cuda/cuda_executor.cc:901] successful NUMA node read from SysFS had negative value (-1), but there must be at least one NUMA node, so returning NUMA node zero. See more at https://github.com/torvalds/linux/blob/v6.0/Documentation/ABI/testing/sysfs-bus-pci#L344-L355\n",
      "2025-04-01 07:56:05.693851: I external/local_xla/xla/stream_executor/cuda/cuda_executor.cc:901] successful NUMA node read from SysFS had negative value (-1), but there must be at least one NUMA node, so returning NUMA node zero. See more at https://github.com/torvalds/linux/blob/v6.0/Documentation/ABI/testing/sysfs-bus-pci#L344-L355\n",
      "2025-04-01 07:56:05.697563: I external/local_xla/xla/stream_executor/cuda/cuda_executor.cc:901] successful NUMA node read from SysFS had negative value (-1), but there must be at least one NUMA node, so returning NUMA node zero. See more at https://github.com/torvalds/linux/blob/v6.0/Documentation/ABI/testing/sysfs-bus-pci#L344-L355\n",
      "2025-04-01 07:56:05.700117: I external/local_xla/xla/stream_executor/cuda/cuda_executor.cc:901] successful NUMA node read from SysFS had negative value (-1), but there must be at least one NUMA node, so returning NUMA node zero. See more at https://github.com/torvalds/linux/blob/v6.0/Documentation/ABI/testing/sysfs-bus-pci#L344-L355\n",
      "2025-04-01 07:56:05.702653: I external/local_xla/xla/stream_executor/cuda/cuda_executor.cc:901] successful NUMA node read from SysFS had negative value (-1), but there must be at least one NUMA node, so returning NUMA node zero. See more at https://github.com/torvalds/linux/blob/v6.0/Documentation/ABI/testing/sysfs-bus-pci#L344-L355\n",
      "2025-04-01 07:56:05.843445: I external/local_xla/xla/stream_executor/cuda/cuda_executor.cc:901] successful NUMA node read from SysFS had negative value (-1), but there must be at least one NUMA node, so returning NUMA node zero. See more at https://github.com/torvalds/linux/blob/v6.0/Documentation/ABI/testing/sysfs-bus-pci#L344-L355\n",
      "2025-04-01 07:56:05.844441: I external/local_xla/xla/stream_executor/cuda/cuda_executor.cc:901] successful NUMA node read from SysFS had negative value (-1), but there must be at least one NUMA node, so returning NUMA node zero. See more at https://github.com/torvalds/linux/blob/v6.0/Documentation/ABI/testing/sysfs-bus-pci#L344-L355\n",
      "2025-04-01 07:56:05.845497: I external/local_xla/xla/stream_executor/cuda/cuda_executor.cc:901] successful NUMA node read from SysFS had negative value (-1), but there must be at least one NUMA node, so returning NUMA node zero. See more at https://github.com/torvalds/linux/blob/v6.0/Documentation/ABI/testing/sysfs-bus-pci#L344-L355\n",
      "2025-04-01 07:56:05.846370: I tensorflow/core/common_runtime/gpu/gpu_device.cc:1929] Created device /job:localhost/replica:0/task:0/device:GPU:0 with 6632 MB memory:  -> device: 0, name: NVIDIA GeForce RTX 2070 SUPER, pci bus id: 0000:09:00.0, compute capability: 7.5\n"
     ]
    },
    {
     "name": "stdout",
     "output_type": "stream",
     "text": [
      "Model: \"sequential\"\n",
      "_________________________________________________________________\n",
      " Layer (type)                Output Shape              Param #   \n",
      "=================================================================\n",
      " embedding (Embedding)       (None, None, 128)         128000    \n",
      "                                                                 \n",
      " simple_rnn (SimpleRNN)      (None, None, 128)         32896     \n",
      "                                                                 \n",
      " simple_rnn_1 (SimpleRNN)    (None, 128)               32896     \n",
      "                                                                 \n",
      " dense (Dense)               (None, 1)                 129       \n",
      "                                                                 \n",
      "=================================================================\n",
      "Total params: 193921 (757.50 KB)\n",
      "Trainable params: 193921 (757.50 KB)\n",
      "Non-trainable params: 0 (0.00 Byte)\n",
      "_________________________________________________________________\n",
      "Model: \"sequential_1\"\n",
      "_________________________________________________________________\n",
      " Layer (type)                Output Shape              Param #   \n",
      "=================================================================\n",
      " embedding_1 (Embedding)     (None, None, 128)         128000    \n",
      "                                                                 \n",
      " lstm (LSTM)                 (None, None, 128)         131584    \n",
      "                                                                 \n",
      " lstm_1 (LSTM)               (None, 128)               131584    \n",
      "                                                                 \n",
      " dense_1 (Dense)             (None, 1)                 129       \n",
      "                                                                 \n",
      "=================================================================\n",
      "Total params: 391297 (1.49 MB)\n",
      "Trainable params: 391297 (1.49 MB)\n",
      "Non-trainable params: 0 (0.00 Byte)\n",
      "_________________________________________________________________\n",
      "Model: \"sequential_2\"\n",
      "_________________________________________________________________\n",
      " Layer (type)                Output Shape              Param #   \n",
      "=================================================================\n",
      " embedding_2 (Embedding)     (None, None, 128)         128000    \n",
      "                                                                 \n",
      " gru (GRU)                   (None, None, 128)         99072     \n",
      "                                                                 \n",
      " gru_1 (GRU)                 (None, 128)               99072     \n",
      "                                                                 \n",
      " dense_2 (Dense)             (None, 1)                 129       \n",
      "                                                                 \n",
      "=================================================================\n",
      "Total params: 326273 (1.24 MB)\n",
      "Trainable params: 326273 (1.24 MB)\n",
      "Non-trainable params: 0 (0.00 Byte)\n",
      "_________________________________________________________________\n"
     ]
    }
   ],
   "source": [
    "embed_size = 128\n",
    "vocabulary_size = 1000\n",
    "\n",
    "model = keras.models.Sequential([\n",
    "    keras.layers.Embedding(vocabulary_size, embed_size,\n",
    "                           input_shape=[None]),\n",
    "    keras.layers.SimpleRNN(128, return_sequences=True),\n",
    "    keras.layers.SimpleRNN(128),\n",
    "    keras.layers.Dense(1, activation='sigmoid')\n",
    "    ])\n",
    "\n",
    "model_ltsm = keras.models.Sequential([\n",
    "    keras.layers.Embedding(vocabulary_size, embed_size,\n",
    "                           input_shape=[None]),\n",
    "    keras.layers.LSTM(128, return_sequences=True),\n",
    "    keras.layers.LSTM(128),\n",
    "    keras.layers.Dense(1, activation='sigmoid')\n",
    "    ])\n",
    "model_gru = keras.models.Sequential([\n",
    "    keras.layers.Embedding(vocabulary_size, embed_size,\n",
    "                           input_shape=[None]),\n",
    "    keras.layers.GRU(128, return_sequences=True),\n",
    "    keras.layers.GRU(128),\n",
    "    keras.layers.Dense(1, activation='sigmoid')\n",
    "    ])\n",
    "\n",
    "model.summary()\n",
    "model_ltsm.summary()\n",
    "model_gru.summary()\n"
   ]
  },
  {
   "cell_type": "code",
   "execution_count": null,
   "id": "lCz9ZWgNbhaZ",
   "metadata": {
    "executionInfo": {
     "elapsed": 324,
     "status": "ok",
     "timestamp": 1712505961819,
     "user": {
      "displayName": "Jan Bolcek",
      "userId": "11245949610672084450"
     },
     "user_tz": -120
    },
    "id": "lCz9ZWgNbhaZ"
   },
   "outputs": [],
   "source": [
    "optimizer = Adam(learning_rate = 0.001)\n",
    "optimizer_ltsm = Adam(learning_rate = 0.001)\n",
    "optimizer_gru = Adam(learning_rate = 0.001)\n",
    "\n",
    "nEpochs = 7"
   ]
  },
  {
   "cell_type": "code",
   "execution_count": 9,
   "id": "7fdxNF0h28jf",
   "metadata": {
    "executionInfo": {
     "elapsed": 2,
     "status": "ok",
     "timestamp": 1712505962620,
     "user": {
      "displayName": "Jan Bolcek",
      "userId": "11245949610672084450"
     },
     "user_tz": -120
    },
    "id": "7fdxNF0h28jf"
   },
   "outputs": [],
   "source": [
    "model.compile(loss=\"binary_crossentropy\", optimizer=optimizer, metrics=[\"accuracy\"])\n",
    "model_ltsm.compile(loss=\"binary_crossentropy\", optimizer=optimizer_ltsm, metrics=[\"accuracy\"])\n",
    "model_gru.compile(loss=\"binary_crossentropy\", optimizer=optimizer_gru, metrics=[\"accuracy\"])"
   ]
  },
  {
   "cell_type": "code",
   "execution_count": 10,
   "id": "lIVFi9qT3gzy",
   "metadata": {
    "colab": {
     "base_uri": "https://localhost:8080/"
    },
    "executionInfo": {
     "elapsed": 701010,
     "status": "ok",
     "timestamp": 1712506664698,
     "user": {
      "displayName": "Jan Bolcek",
      "userId": "11245949610672084450"
     },
     "user_tz": -120
    },
    "id": "lIVFi9qT3gzy",
    "outputId": "bec4342f-af9b-4f6d-ce79-0199e67de5bb"
   },
   "outputs": [
    {
     "name": "stdout",
     "output_type": "stream",
     "text": [
      "Epoch 1/10\n"
     ]
    },
    {
     "name": "stderr",
     "output_type": "stream",
     "text": [
      "2025-04-01 07:56:14.883699: I external/local_xla/xla/service/service.cc:168] XLA service 0x7fc939d050a0 initialized for platform CUDA (this does not guarantee that XLA will be used). Devices:\n",
      "2025-04-01 07:56:14.883734: I external/local_xla/xla/service/service.cc:176]   StreamExecutor device (0): NVIDIA GeForce RTX 2070 SUPER, Compute Capability 7.5\n",
      "2025-04-01 07:56:14.892010: I tensorflow/compiler/mlir/tensorflow/utils/dump_mlir_util.cc:269] disabling MLIR crash reproducer, set env var `MLIR_CRASH_REPRODUCER_DIRECTORY` to enable.\n",
      "2025-04-01 07:56:14.910941: I external/local_xla/xla/stream_executor/cuda/cuda_dnn.cc:454] Loaded cuDNN version 8904\n",
      "WARNING: All log messages before absl::InitializeLog() is called are written to STDERR\n",
      "I0000 00:00:1743494174.976237  219407 device_compiler.h:186] Compiled cluster using XLA!  This line is logged at most once for the lifetime of the process.\n"
     ]
    },
    {
     "name": "stdout",
     "output_type": "stream",
     "text": [
      "625/625 [==============================] - 95s 149ms/step - loss: 0.7025 - accuracy: 0.5003 - val_loss: 0.7039 - val_accuracy: 0.4938\n",
      "Epoch 2/10\n",
      "625/625 [==============================] - 82s 131ms/step - loss: 0.6958 - accuracy: 0.4990 - val_loss: 0.6959 - val_accuracy: 0.4938\n",
      "Epoch 3/10\n",
      "625/625 [==============================] - 81s 129ms/step - loss: 0.6959 - accuracy: 0.4960 - val_loss: 0.6961 - val_accuracy: 0.5062\n",
      "Epoch 4/10\n",
      "625/625 [==============================] - 81s 129ms/step - loss: 0.6962 - accuracy: 0.4983 - val_loss: 0.6957 - val_accuracy: 0.4938\n",
      "Epoch 5/10\n",
      "625/625 [==============================] - 80s 128ms/step - loss: 0.6956 - accuracy: 0.5001 - val_loss: 0.6935 - val_accuracy: 0.5062\n",
      "Epoch 6/10\n",
      "625/625 [==============================] - 79s 127ms/step - loss: 0.6952 - accuracy: 0.5030 - val_loss: 0.6931 - val_accuracy: 0.5064\n",
      "Epoch 7/10\n",
      "625/625 [==============================] - 79s 126ms/step - loss: 0.6945 - accuracy: 0.5027 - val_loss: 0.6954 - val_accuracy: 0.4942\n",
      "Epoch 8/10\n",
      "625/625 [==============================] - 79s 127ms/step - loss: 0.6937 - accuracy: 0.5157 - val_loss: 0.7002 - val_accuracy: 0.5026\n",
      "Epoch 9/10\n",
      "625/625 [==============================] - 79s 126ms/step - loss: 0.6866 - accuracy: 0.5454 - val_loss: 0.7055 - val_accuracy: 0.5126\n",
      "Epoch 10/10\n",
      "625/625 [==============================] - 79s 126ms/step - loss: 0.6812 - accuracy: 0.5559 - val_loss: 0.7031 - val_accuracy: 0.5254\n"
     ]
    }
   ],
   "source": [
    "history = model.fit(X_train, y_train, epochs=nEpochs, validation_split=0.2)"
   ]
  },
  {
   "cell_type": "code",
   "execution_count": 11,
   "id": "459db4f1",
   "metadata": {},
   "outputs": [
    {
     "name": "stdout",
     "output_type": "stream",
     "text": [
      "Epoch 1/10\n",
      "625/625 [==============================] - 32s 48ms/step - loss: 0.6602 - accuracy: 0.6033 - val_loss: 0.6392 - val_accuracy: 0.6256\n",
      "Epoch 2/10\n",
      "625/625 [==============================] - 13s 20ms/step - loss: 0.6449 - accuracy: 0.6255 - val_loss: 0.8251 - val_accuracy: 0.5092\n",
      "Epoch 3/10\n",
      "625/625 [==============================] - 11s 18ms/step - loss: 0.5311 - accuracy: 0.7442 - val_loss: 0.4473 - val_accuracy: 0.7956\n",
      "Epoch 4/10\n",
      "625/625 [==============================] - 10s 15ms/step - loss: 0.4160 - accuracy: 0.8151 - val_loss: 0.4253 - val_accuracy: 0.8064\n",
      "Epoch 5/10\n",
      "625/625 [==============================] - 10s 16ms/step - loss: 0.3751 - accuracy: 0.8329 - val_loss: 0.3852 - val_accuracy: 0.8272\n",
      "Epoch 6/10\n",
      "625/625 [==============================] - 9s 14ms/step - loss: 0.3612 - accuracy: 0.8430 - val_loss: 0.3809 - val_accuracy: 0.8304\n",
      "Epoch 7/10\n",
      "625/625 [==============================] - 9s 15ms/step - loss: 0.3347 - accuracy: 0.8550 - val_loss: 0.3827 - val_accuracy: 0.8256\n",
      "Epoch 8/10\n",
      "625/625 [==============================] - 9s 14ms/step - loss: 0.3186 - accuracy: 0.8641 - val_loss: 0.4061 - val_accuracy: 0.8286\n",
      "Epoch 9/10\n",
      "625/625 [==============================] - 9s 15ms/step - loss: 0.3042 - accuracy: 0.8694 - val_loss: 0.3845 - val_accuracy: 0.8310\n",
      "Epoch 10/10\n",
      "625/625 [==============================] - 9s 14ms/step - loss: 0.2888 - accuracy: 0.8772 - val_loss: 0.3920 - val_accuracy: 0.8254\n"
     ]
    }
   ],
   "source": [
    "history_ltsm = model_ltsm.fit(X_train, y_train, epochs=nEpochs, validation_split=0.2)"
   ]
  },
  {
   "cell_type": "code",
   "execution_count": 12,
   "metadata": {},
   "outputs": [
    {
     "name": "stdout",
     "output_type": "stream",
     "text": [
      "Epoch 1/10\n",
      "625/625 [==============================] - 31s 47ms/step - loss: 0.6355 - accuracy: 0.6021 - val_loss: 0.4323 - val_accuracy: 0.8032\n",
      "Epoch 2/10\n",
      "625/625 [==============================] - 13s 21ms/step - loss: 0.3897 - accuracy: 0.8248 - val_loss: 0.3871 - val_accuracy: 0.8356\n",
      "Epoch 3/10\n",
      "625/625 [==============================] - 10s 16ms/step - loss: 0.3412 - accuracy: 0.8507 - val_loss: 0.3744 - val_accuracy: 0.8298\n",
      "Epoch 4/10\n",
      "625/625 [==============================] - 9s 15ms/step - loss: 0.3203 - accuracy: 0.8615 - val_loss: 0.3867 - val_accuracy: 0.8296\n",
      "Epoch 5/10\n",
      "625/625 [==============================] - 9s 14ms/step - loss: 0.2998 - accuracy: 0.8717 - val_loss: 0.4115 - val_accuracy: 0.8278\n",
      "Epoch 6/10\n",
      "625/625 [==============================] - 8s 13ms/step - loss: 0.2773 - accuracy: 0.8824 - val_loss: 0.4049 - val_accuracy: 0.8226\n",
      "Epoch 7/10\n",
      "625/625 [==============================] - 8s 13ms/step - loss: 0.2585 - accuracy: 0.8918 - val_loss: 0.4399 - val_accuracy: 0.8160\n",
      "Epoch 8/10\n",
      "625/625 [==============================] - 8s 13ms/step - loss: 0.2367 - accuracy: 0.9007 - val_loss: 0.4468 - val_accuracy: 0.8130\n",
      "Epoch 9/10\n",
      "625/625 [==============================] - 8s 13ms/step - loss: 0.2170 - accuracy: 0.9095 - val_loss: 0.5229 - val_accuracy: 0.8078\n",
      "Epoch 10/10\n",
      "625/625 [==============================] - 8s 13ms/step - loss: 0.1951 - accuracy: 0.9202 - val_loss: 0.5397 - val_accuracy: 0.8094\n"
     ]
    }
   ],
   "source": [
    "history_gru = model_gru.fit(X_train, y_train, epochs=nEpochs, validation_split=0.2)"
   ]
  },
  {
   "cell_type": "code",
   "execution_count": 13,
   "id": "b86aff87",
   "metadata": {},
   "outputs": [
    {
     "data": {
      "image/png": "[encoded data removed]",
      "text/plain": [
       "<Figure size 640x480 with 1 Axes>"
      ]
     },
     "metadata": {},
     "output_type": "display_data"
    }
   ],
   "source": [
    "# Plotting the training and validation loss\n",
    "plt.figure()\n",
    "plt.plot(history.history['loss'], label='loss')\n",
    "plt.plot(history.history['val_loss'], label='validation_loss')\n",
    "plt.plot(history_ltsm.history['loss'], label='loss_ltsm')\n",
    "plt.plot(history_ltsm.history['val_loss'], label='validation_loss_ltsm')\n",
    "plt.plot(history_gru.history['loss'], label='loss_gru')\n",
    "plt.plot(history_gru.history['val_loss'], label='validation_loss_gru')\n",
    "plt.legend()\n",
    "plt.grid()\n",
    "plt.xlim([0,5])\n",
    "plt.xlabel('epochs')\n",
    "plt.title('Loss vs Epochs')\n",
    "plt.show()"
   ]
  },
  {
   "cell_type": "code",
   "execution_count": null,
   "id": "69zrgeNHIau6",
   "metadata": {
    "colab": {
     "base_uri": "https://localhost:8080/"
    },
    "executionInfo": {
     "elapsed": 17991,
     "status": "ok",
     "timestamp": 1712506741664,
     "user": {
      "displayName": "Jan Bolcek",
      "userId": "11245949610672084450"
     },
     "user_tz": -120
    },
    "id": "69zrgeNHIau6",
    "outputId": "438f43d3-823f-4808-8dca-b88ec78a9d77"
   },
   "outputs": [],
   "source": [
    "score = model.evaluate(X_test, y_test, verbose=0)\n",
    "print('Test loss:', score[0])\n",
    "print(f'Test accuracy: ', score[1]*100, \"%\")\n",
    "\n",
    "score = model_ltsm.evaluate(X_test, y_test, verbose=0)\n",
    "print('LTSM Test loss:', score[0])\n",
    "print(f'LTSM Test accuracy: ', score[1]*100, \"%\")\n",
    "\n",
    "score = model_gru.evaluate(X_test, y_test, verbose=0)\n",
    "print('GRU Test loss:', score[0])\n",
    "print(f'GRU Test accuracy: ', score[1]*100, \"%\")"
   ]
  },
  {
   "cell_type": "markdown",
   "id": "ZtA1O3R1RArG",
   "metadata": {
    "id": "ZtA1O3R1RArG"
   },
   "source": [
    "TASK: Modify structure, change the core of the network from RNN to LTSM and GRU. Compare the results"
   ]
  }
 ],
 "metadata": {
  "accelerator": "GPU",
  "colab": {
   "gpuType": "T4",
   "provenance": []
  },
  "kernelspec": {
   "display_name": "MLF",
   "language": "python",
   "name": "python3"
  },
  "language_info": {
   "codemirror_mode": {
    "name": "ipython",
    "version": 3
   },
   "file_extension": ".py",
   "mimetype": "text/x-python",
   "name": "python",
   "nbconvert_exporter": "python",
   "pygments_lexer": "ipython3",
   "version": "3.10.0"
  }
 },
 "nbformat": 4,
 "nbformat_minor": 5
}
